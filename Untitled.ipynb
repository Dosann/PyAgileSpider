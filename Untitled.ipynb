{
 "cells": [
  {
   "cell_type": "code",
   "execution_count": 1,
   "metadata": {
    "collapsed": false,
    "scrolled": true
   },
   "outputs": [
    {
     "name": "stdout",
     "output_type": "stream",
     "text": [
      "D:\\Codes\\PyAgileSpiders\\PyAgileSpider\\core\n"
     ]
    }
   ],
   "source": [
    "cd D:\\Codes\\PyAgileSpiders\\PyAgileSpider\\core"
   ]
  },
  {
   "cell_type": "code",
   "execution_count": 2,
   "metadata": {
    "collapsed": false
   },
   "outputs": [],
   "source": [
    "import Tools\n",
    "import time\n",
    "import json\n",
    "import Queue\n",
    "import Levenshtein"
   ]
  },
  {
   "cell_type": "code",
   "execution_count": 3,
   "metadata": {
    "collapsed": false
   },
   "outputs": [],
   "source": [
    "driver=Tools.SeleniumSupport.CreateWebdriver('Chrome')\n",
    "driver.get('http://course.shlll.net/Course/coursesearch/p_1/1/A63B73AEB3B95A63')"
   ]
  },
  {
   "cell_type": "code",
   "execution_count": 4,
   "metadata": {
    "collapsed": false
   },
   "outputs": [],
   "source": [
    "conn=Tools.DatabaseSupport.GenerateConn(host='rm-bp10rf4zreaw5he66o.mysql.rds.aliyuncs.com',dbname='sentiment',port=3306,user='root',passwd='Csstsari107')"
   ]
  },
  {
   "cell_type": "code",
   "execution_count": 23,
   "metadata": {
    "collapsed": true
   },
   "outputs": [],
   "source": [
    "def isUrl(s):\n",
    "    #print \"current s:\",s\n",
    "    if s==None:\n",
    "        return False\n",
    "    if len(s)==0:\n",
    "        return False\n",
    "    if s[:4]=='http':\n",
    "        return True\n",
    "    elif s[0]=='/':\n",
    "        return True\n",
    "    else:\n",
    "        return False\n",
    "\n",
    "def findUrlOfA(driver):\n",
    "    a_s=driver.find_elements_by_tag_name('a')\n",
    "    t_as=[]\n",
    "    for a in a_s:\n",
    "        a_src=a.get_attribute('href')\n",
    "        if isUrl(a_src):\n",
    "            t_as.append([1,a_src])\n",
    "        else:\n",
    "            t_as.append([2,a.text])\n",
    "    return t_as\n",
    "\n",
    "def urlPathComplement(urls,path):\n",
    "    urls_compl=[]\n",
    "    for url in urls:\n",
    "        if url[0]==1:\n",
    "            urls_compl.append([['url',url[1]]])\n",
    "        elif url[0]==2:\n",
    "            urls_compl.append(path+[['button',url[1]]])\n",
    "    return urls_compl\n",
    "\n",
    "def turnToElement(driver,url):\n",
    "    global urlset\n",
    "    new_urls=[]\n",
    "    for action in url:\n",
    "        print action\n",
    "        if action[0]=='url':\n",
    "            print action[1]\n",
    "            driver.get(action[1])\n",
    "        elif action[0]=='iframe':\n",
    "            driver.switch_to_frame(action[1])\n",
    "        elif action[0]=='button':\n",
    "            content=driver.find_element_by_tag_name('html').text\n",
    "            page_url=driver.current_url\n",
    "            Tools.SeleniumSupport.WaitUntilClickable(driver,link_text=action[1])\n",
    "            driver.find_element_by_link_text(action[1]).click()\n",
    "            time.sleep(1)\n",
    "    if len(url)==1:\n",
    "        path=[['url',url[0][1]]]\n",
    "    else:\n",
    "        # 如果页面url改变，添加url路径；如果url未变，检测页面内容→如果页面内容也未变，不添加该路径；如果页面内容改变，添加点击路径。\n",
    "        if driver.current_url!=page_url:\n",
    "            path=[['url',driver.current_url]]\n",
    "        else:\n",
    "            if Levenshtein.jaro(driver.find_element_by_tag_name('html').text,content)<0.95:\n",
    "                path=url\n",
    "    urls_in_new_page=findAllUrls(driver,path)\n",
    "    for url_in_new_page in urls_in_new_page:\n",
    "        surl_in_new_page=json.dumps(url_in_new_page)\n",
    "        if surl_in_new_page not in urlset:\n",
    "            new_urls.append(url_in_new_page)\n",
    "            urlset.add(surl_in_new_page)\n",
    "    return new_urls\n",
    "\n",
    "def findIframes(driver):\n",
    "    ifrs=driver.find_elements_by_tag_name('iframe')\n",
    "    t_iframes=[]\n",
    "    for ifr in ifrs:\n",
    "        ifr_id=ifr.get_attribute('id')\n",
    "        if ifr_id==None:\n",
    "            continue\n",
    "\n",
    "        ifr_src=ifr.get_attribute('src')\n",
    "        if ifr_src==None or not isUrl(ifr_src):\n",
    "            t_iframes.append([['url',driver.current_url],['iframe',ifr_id]])\n",
    "            continue\n",
    "        else:\n",
    "            t_iframes.append([['url',ifr_src]])\n",
    "    return t_iframes\n",
    "\n",
    "def findAllUrls(driver,path):\n",
    "    t_iframes=findIframes(driver)\n",
    "    urls=findUrlOfA(driver)\n",
    "    urls=urlPathComplement(urls,path)\n",
    "    urls+=t_iframes\n",
    "    return urls"
   ]
  },
  {
   "cell_type": "code",
   "execution_count": 6,
   "metadata": {
    "collapsed": false,
    "scrolled": true
   },
   "outputs": [
    {
     "name": "stdout",
     "output_type": "stream",
     "text": [
      "1\n"
     ]
    }
   ],
   "source": [
    "conn=Tools.DatabaseSupport.GenerateConn(host='rm-bp10rf4zreaw5he66o.mysql.rds.aliyuncs.com',dbname='sentiment',port=3306,user='root',passwd='Csstsari107')\n",
    "temp=Tools.LoadData.LoadDataByCmd(conn,\"select id,url from t_dianping limit 1\")\n",
    "if len(temp)==0:\n",
    "    Tools.SaveData.SaveData(conn,[['%s'%(initial_url),'unvisited']],'t_dianping',['url','status'])\n",
    "urls=Tools.LoadData.LoadDataByCmd(conn,\"select id,url from t_dianping where status='unvisited'\")\n",
    "current_id=int(Tools.LoadData.LoadDataByCmd(conn,\"select max(id) from t_dianping\")[0][0])\n",
    "\n",
    "\n",
    "\n",
    "#创建队列\n",
    "que=Queue.Queue()\n",
    "print len(urls)\n",
    "if len(urls)==0:\n",
    "    urlset=set(initial_url)\n",
    "    task=(0,0,initial_url)\n",
    "    que.put(task)\n",
    "else:\n",
    "    urlset=set(map(lambda x:x[1],urls))\n",
    "    for urlid,url in urls:\n",
    "        que.put((urlid,0,url))\n",
    "taskque=que"
   ]
  },
  {
   "cell_type": "code",
   "execution_count": 25,
   "metadata": {
    "collapsed": false
   },
   "outputs": [
    {
     "name": "stdout",
     "output_type": "stream",
     "text": [
      "(8L, 0, u'[[\"url\", \"http://course.shlll.net/Course/Course10015.html\"]]')\n",
      "url:[[\"url\", \"http://course.shlll.net/Course/Course10015.html\"]] 60 <type 'unicode'>\n",
      "[u'url', u'http://course.shlll.net/Course/Course10015.html']\n",
      "http://course.shlll.net/Course/Course10015.html\n"
     ]
    }
   ],
   "source": [
    "task=taskque.get()\n",
    "print task\n",
    "print \"url:%s\"%(task[2]),len(task[2]),type(task[2])\n",
    "new_urls=turnToElement(driver,json.loads(task[2]))\n",
    "if task[1]<=1000000:\n",
    "\n",
    "\n",
    "    data=[]\n",
    "    for new_url in new_urls:\n",
    "        current_id+=1\n",
    "        taskque.put([current_id,task[1]+1,new_url])\n",
    "        data.append([current_id,new_url,'unvisited'])\n",
    "    data=map(lambda x:[x[0],json.dumps(x[1]),x[2]],data)"
   ]
  },
  {
   "cell_type": "code",
   "execution_count": 14,
   "metadata": {
    "collapsed": false,
    "scrolled": true
   },
   "outputs": [
    {
     "data": {
      "text/plain": [
       "[[23,\n",
       "  '[[\"url\", \"http://course.shlll.net/Course/Course10025.html\"], [\"button\", \"\\\\u5206\\\\u4eab\\\\u5230\"]]',\n",
       "  'unvisited'],\n",
       " [24,\n",
       "  '[[\"url\", \"http://course.shlll.net/Course/Course10025.html#\"]]',\n",
       "  'unvisited'],\n",
       " [25, '[[\"url\", \"http://course.shlll.net/Ware/Ware918.html\"]]', 'unvisited'],\n",
       " [26, '[[\"url\", \"http://course.shlll.net/Ware/Ware919.html\"]]', 'unvisited'],\n",
       " [27, '[[\"url\", \"http://course.shlll.net/Ware/Ware920.html\"]]', 'unvisited'],\n",
       " [28, '[[\"url\", \"http://course.shlll.net/Ware/Ware921.html\"]]', 'unvisited'],\n",
       " [29, '[[\"url\", \"http://course.shlll.net/Ware/Ware922.html\"]]', 'unvisited'],\n",
       " [30,\n",
       "  '[[\"url\", \"http://course.shlll.net/course/discovery/12FF2473CE16B988/?parm=12FF2473CE16B988\"]]',\n",
       "  'unvisited'],\n",
       " [31,\n",
       "  '[[\"url\", \"http://course.shlll.net/course/discovery/84B06BBCAA76D30E/?parm=84B06BBCAA76D30E\"]]',\n",
       "  'unvisited'],\n",
       " [32,\n",
       "  '[[\"url\", \"http://course.shlll.net/course/discovery/8977E9FBC3A907C5/?parm=8977E9FBC3A907C5\"]]',\n",
       "  'unvisited'],\n",
       " [33,\n",
       "  '[[\"url\", \"http://course.shlll.net/course/discovery/2FE8BE2A1BECE130/?parm=2FE8BE2A1BECE130\"]]',\n",
       "  'unvisited'],\n",
       " [34,\n",
       "  '[[\"url\", \"http://course.shlll.net/course/discovery/BDAC8AF6AE6EA663/?parm=BDAC8AF6AE6EA663\"]]',\n",
       "  'unvisited'],\n",
       " [35,\n",
       "  '[[\"url\", \"http://course.shlll.net/course/discovery/4D888976F8118F00/?parm=4D888976F8118F00\"]]',\n",
       "  'unvisited'],\n",
       " [36,\n",
       "  '[[\"url\", \"http://course.shlll.net/Course/Course8000.html\"]]',\n",
       "  'unvisited'],\n",
       " [37,\n",
       "  '[[\"url\", \"http://course.shlll.net/Course/Course10139.html\"]]',\n",
       "  'unvisited'],\n",
       " [38,\n",
       "  '[[\"url\", \"http://course.shlll.net/Course/Course10023.html\"]]',\n",
       "  'unvisited'],\n",
       " [39,\n",
       "  '[[\"url\", \"http://course.shlll.net/Course/Course8182.html\"]]',\n",
       "  'unvisited'],\n",
       " [40,\n",
       "  '[[\"url\", \"http://course.shlll.net/Course/Course10022.html\"]]',\n",
       "  'unvisited'],\n",
       " [41,\n",
       "  '[[\"url\", \"http://course.shlll.net/Course/Course9996.html\"]]',\n",
       "  'unvisited'],\n",
       " [42,\n",
       "  '[[\"url\", \"http://course.shlll.net/Course/Course10144.html\"]]',\n",
       "  'unvisited'],\n",
       " [43,\n",
       "  '[[\"url\", \"http://course.shlll.net/Course/Course7862.html\"]]',\n",
       "  'unvisited'],\n",
       " [44,\n",
       "  '[[\"url\", \"http://course.shlll.net/Course/Course8049.html\"]]',\n",
       "  'unvisited'],\n",
       " [45,\n",
       "  '[[\"url\", \"http://www.beian.gov.cn/portal/registerSystemInfo?recordcode=31011002000385\"]]',\n",
       "  'unvisited'],\n",
       " [46, '[[\"url\", \"http://course.shlll.net/course/Masterpage\"]]', 'unvisited'],\n",
       " [47,\n",
       "  '[[\"url\", \"http://course.shlll.net/widget/coursecomment/p_1/CA38AF8354615727/F10C8A3834BDE80C/1\"]]',\n",
       "  'unvisited']]"
      ]
     },
     "execution_count": 14,
     "metadata": {},
     "output_type": "execute_result"
    }
   ],
   "source": [
    "data"
   ]
  },
  {
   "cell_type": "code",
   "execution_count": 26,
   "metadata": {
    "collapsed": false
   },
   "outputs": [],
   "source": [
    "Tools.SaveData.SaveData(conn,data,\"t_urls\",['id','url','status'])\n",
    "Tools.SaveData.UpdateData(conn,['visited'],\"t_urls\",['status'],'id=%s'%(task[0]))"
   ]
  },
  {
   "cell_type": "code",
   "execution_count": 27,
   "metadata": {
    "collapsed": false
   },
   "outputs": [
    {
     "data": {
      "text/plain": [
       "(9L, 0, u'[[\"url\", \"http://course.shlll.net/Course/Course10014.html\"]]')"
      ]
     },
     "execution_count": 27,
     "metadata": {},
     "output_type": "execute_result"
    }
   ],
   "source": [
    "a1=taskque.get()\n",
    "a1"
   ]
  },
  {
   "cell_type": "code",
   "execution_count": 30,
   "metadata": {
    "collapsed": false
   },
   "outputs": [
    {
     "data": {
      "text/plain": [
       "[82,\n",
       " 1,\n",
       " '[[\"url\", \"http://course.shlll.net/widget/coursecomment/p_1/CA38AF8354615727/A38AC68BBB409E62/1\"]]']"
      ]
     },
     "execution_count": 30,
     "metadata": {},
     "output_type": "execute_result"
    }
   ],
   "source": [
    "[current_id,task[1]+1,json.dumps(new_url)]"
   ]
  }
 ],
 "metadata": {
  "kernelspec": {
   "display_name": "Python 2",
   "language": "python",
   "name": "python2"
  },
  "language_info": {
   "codemirror_mode": {
    "name": "ipython",
    "version": 2
   },
   "file_extension": ".py",
   "mimetype": "text/x-python",
   "name": "python",
   "nbconvert_exporter": "python",
   "pygments_lexer": "ipython2",
   "version": "2.7.13"
  }
 },
 "nbformat": 4,
 "nbformat_minor": 2
}
