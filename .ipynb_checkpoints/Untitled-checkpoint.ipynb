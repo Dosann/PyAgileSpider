{
 "cells": [
  {
   "cell_type": "code",
   "execution_count": 2,
   "metadata": {
    "collapsed": false,
    "scrolled": true
   },
   "outputs": [
    {
     "name": "stdout",
     "output_type": "stream",
     "text": [
      "D:\\Codes\\PyAgileSpiders\\PyAgileSpider\\core\n"
     ]
    }
   ],
   "source": [
    "cd D:\\Codes\\PyAgileSpiders\\PyAgileSpider\\core"
   ]
  },
  {
   "cell_type": "code",
   "execution_count": 3,
   "metadata": {
    "collapsed": false
   },
   "outputs": [],
   "source": [
    "import Tools\n",
    "import time"
   ]
  },
  {
   "cell_type": "code",
   "execution_count": 130,
   "metadata": {
    "collapsed": false
   },
   "outputs": [
    {
     "data": {
      "text/plain": [
       "<module 'Tools' from 'Tools.py'>"
      ]
     },
     "execution_count": 130,
     "metadata": {},
     "output_type": "execute_result"
    }
   ],
   "source": [
    "reload(Tools)"
   ]
  },
  {
   "cell_type": "code",
   "execution_count": 28,
   "metadata": {
    "collapsed": true
   },
   "outputs": [],
   "source": [
    "#driver=Tools.SeleniumSupport.CreateWebdriver('Chrome')\n",
    "driver.get('http://course.shlll.net/course/discovery')"
   ]
  },
  {
   "cell_type": "code",
   "execution_count": 29,
   "metadata": {
    "collapsed": false,
    "scrolled": true
   },
   "outputs": [
    {
     "name": "stdout",
     "output_type": "stream",
     "text": [
      "[[u'SearchCourse', True, u'http://course.shlll.net/course/discovery', u'http://course.shlll.net/Course/coursesearch/p_1/1/A63B73AEB3B95A63']]\n"
     ]
    }
   ],
   "source": [
    "ifrs=driver.find_elements_by_tag_name('iframe')\n",
    "t_iframes=[]\n",
    "for ifr in ifrs:\n",
    "    ifr_id=ifr.get_attribute('id')\n",
    "    if ifr_id==None:\n",
    "        t_iframes.append([None])\n",
    "        continue\n",
    "    \n",
    "    ifr_src=ifr.get_attribute('src')\n",
    "    if ifr_src==None:\n",
    "        ifr_src_valid=False\n",
    "    if isUrl(ifr_src):\n",
    "        ifr_src_valid=True\n",
    "    else:\n",
    "        ifr_src_valid=False\n",
    "    t_iframes.append([ifr_id,ifr_src_valid,driver.current_url,ifr_src])\n",
    "\n",
    "print t_iframes"
   ]
  },
  {
   "cell_type": "code",
   "execution_count": 62,
   "metadata": {
    "collapsed": false
   },
   "outputs": [
    {
     "name": "stdout",
     "output_type": "stream",
     "text": [
      "None\n"
     ]
    }
   ],
   "source": []
  },
  {
   "cell_type": "code",
   "execution_count": 30,
   "metadata": {
    "collapsed": false,
    "scrolled": true
   },
   "outputs": [
    {
     "data": {
      "text/plain": [
       "[[['url', u'http://www.shlll.net/']],\n",
       " [['url', u'http://course.shlll.net/']],\n",
       " [['url', u'http://act.shlll.net/']],\n",
       " [['url', u'http://read.shlll.net/']],\n",
       " [['url', u'http://group.shlll.net/']],\n",
       " [['url', u'http://news.shlll.net/']],\n",
       " [['url',\n",
       "   u'http://member.shlll.net/home/login?redirect=http://course.shlll.net/course/discovery']],\n",
       " [['url', u'http://member.shlll.net/home/signup']],\n",
       " [['url', u'http://course.shlll.net/Course/index']],\n",
       " [['url', u'http://course.shlll.net/Course/index']],\n",
       " [['url', u'http://course.shlll.net/Course/Discovery']],\n",
       " [['url',\n",
       "   u'http://www.beian.gov.cn/portal/registerSystemInfo?recordcode=31011002000385']],\n",
       " [['url', u'http://course.shlll.net/Course/Course8052.html']],\n",
       " [['url', u'http://course.shlll.net/Course/Course8052.html']],\n",
       " [['url', u'http://course.shlll.net/Course/Course10026.html']],\n",
       " [['url', u'http://course.shlll.net/Course/Course10026.html']],\n",
       " [['url', u'http://course.shlll.net/Course/Course10025.html']],\n",
       " [['url', u'http://course.shlll.net/Course/Course10025.html']],\n",
       " [['url', u'http://course.shlll.net/Course/Course10024.html']],\n",
       " [['url', u'http://course.shlll.net/Course/Course10024.html']],\n",
       " [['url', u'http://course.shlll.net/Course/Course8022.html']],\n",
       " [['url', u'http://course.shlll.net/Course/Course8022.html']],\n",
       " [['url', u'http://course.shlll.net/Course/Course10013.html']],\n",
       " [['url', u'http://course.shlll.net/Course/Course10013.html']],\n",
       " [['url', u'http://course.shlll.net/Course/Course10015.html']],\n",
       " [['url', u'http://course.shlll.net/Course/Course10015.html']],\n",
       " [['url', u'http://course.shlll.net/Course/Course10014.html']],\n",
       " [['url', u'http://course.shlll.net/Course/Course10014.html']],\n",
       " [['url', u'http://course.shlll.net/Course/Course10012.html']],\n",
       " [['url', u'http://course.shlll.net/Course/Course10012.html']],\n",
       " [['url', u'http://course.shlll.net/Course/Course8170.html']],\n",
       " [['url', u'http://course.shlll.net/Course/Course8170.html']],\n",
       " [['url',\n",
       "   u'http://course.shlll.net/Course/coursesearch/p_1/1/A63B73AEB3B95A63'],\n",
       "  ['button', u'1']],\n",
       " [['url',\n",
       "   u'http://course.shlll.net/Course/coursesearch/p_1/1/A63B73AEB3B95A63'],\n",
       "  ['button', u'2']],\n",
       " [['url',\n",
       "   u'http://course.shlll.net/Course/coursesearch/p_1/1/A63B73AEB3B95A63'],\n",
       "  ['button', u'3']],\n",
       " [['url',\n",
       "   u'http://course.shlll.net/Course/coursesearch/p_1/1/A63B73AEB3B95A63'],\n",
       "  ['button', u'4']],\n",
       " [['url',\n",
       "   u'http://course.shlll.net/Course/coursesearch/p_1/1/A63B73AEB3B95A63'],\n",
       "  ['button', u'5']],\n",
       " [['url',\n",
       "   u'http://course.shlll.net/Course/coursesearch/p_1/1/A63B73AEB3B95A63'],\n",
       "  ['button', u'6']],\n",
       " [['url',\n",
       "   u'http://course.shlll.net/Course/coursesearch/p_1/1/A63B73AEB3B95A63'],\n",
       "  ['button', u'7']],\n",
       " [['url',\n",
       "   u'http://course.shlll.net/Course/coursesearch/p_1/1/A63B73AEB3B95A63'],\n",
       "  ['button', u'8']],\n",
       " [['url',\n",
       "   u'http://course.shlll.net/Course/coursesearch/p_1/1/A63B73AEB3B95A63'],\n",
       "  ['button', u'9']],\n",
       " [['url',\n",
       "   u'http://course.shlll.net/Course/coursesearch/p_1/1/A63B73AEB3B95A63'],\n",
       "  ['button', u'10']],\n",
       " [['url',\n",
       "   u'http://course.shlll.net/Course/coursesearch/p_1/1/A63B73AEB3B95A63'],\n",
       "  ['button', u'\\u4e0b\\u4e00\\u9875']]]"
      ]
     },
     "execution_count": 30,
     "metadata": {},
     "output_type": "execute_result"
    }
   ],
   "source": [
    "urls=[]\n",
    "urls=findUrlOfA(driver)\n",
    "urls=urlPathComplement(urls,driver.current_url)\n",
    "for ifr in t_iframes:\n",
    "    if ifr==None:\n",
    "        continue\n",
    "    driver.switch_to_frame(ifr[0])\n",
    "    path=ifr[1]==True and [['url',ifr[3]]] or [['url',ifr[2]],['iframe',ifr[0]]]\n",
    "    new_urls=findUrlOfA(driver)\n",
    "    new_urls2=urlPathComplement(new_urls,path)\n",
    "    urls+=new_urls2\n",
    "    driver.switch_to.parent_frame()\n",
    "urls"
   ]
  },
  {
   "cell_type": "code",
   "execution_count": 123,
   "metadata": {
    "collapsed": false,
    "scrolled": true
   },
   "outputs": [
    {
     "data": {
      "text/plain": [
       "[[1, u'http://course.shlll.net/Course/Course8052.html'],\n",
       " [1, u'http://course.shlll.net/Course/Course8052.html'],\n",
       " [1, u'http://course.shlll.net/Course/Course10026.html'],\n",
       " [1, u'http://course.shlll.net/Course/Course10026.html'],\n",
       " [1, u'http://course.shlll.net/Course/Course10025.html'],\n",
       " [1, u'http://course.shlll.net/Course/Course10025.html'],\n",
       " [1, u'http://course.shlll.net/Course/Course10024.html'],\n",
       " [1, u'http://course.shlll.net/Course/Course10024.html'],\n",
       " [1, u'http://course.shlll.net/Course/Course8022.html'],\n",
       " [1, u'http://course.shlll.net/Course/Course8022.html'],\n",
       " [1, u'http://course.shlll.net/Course/Course10013.html'],\n",
       " [1, u'http://course.shlll.net/Course/Course10013.html'],\n",
       " [1, u'http://course.shlll.net/Course/Course10015.html'],\n",
       " [1, u'http://course.shlll.net/Course/Course10015.html'],\n",
       " [1, u'http://course.shlll.net/Course/Course10014.html'],\n",
       " [1, u'http://course.shlll.net/Course/Course10014.html'],\n",
       " [1, u'http://course.shlll.net/Course/Course10012.html'],\n",
       " [1, u'http://course.shlll.net/Course/Course10012.html'],\n",
       " [1, u'http://course.shlll.net/Course/Course8170.html'],\n",
       " [1, u'http://course.shlll.net/Course/Course8170.html'],\n",
       " [2, u'1'],\n",
       " [2, u'2'],\n",
       " [2, u'3'],\n",
       " [2, u'4'],\n",
       " [2, u'5'],\n",
       " [2, u'6'],\n",
       " [2, u'7'],\n",
       " [2, u'8'],\n",
       " [2, u'9'],\n",
       " [2, u'10'],\n",
       " [2, u'\\u4e0b\\u4e00\\u9875']]"
      ]
     },
     "execution_count": 123,
     "metadata": {},
     "output_type": "execute_result"
    }
   ],
   "source": [
    "urls"
   ]
  },
  {
   "cell_type": "code",
   "execution_count": 31,
   "metadata": {
    "collapsed": false,
    "scrolled": true
   },
   "outputs": [
    {
     "name": "stdout",
     "output_type": "stream",
     "text": [
      "[[['url', u'http://www.shlll.net/']], [['url', u'http://course.shlll.net/']], [['url', u'http://act.shlll.net/']], [['url', u'http://read.shlll.net/']], [['url', u'http://group.shlll.net/']], [['url', u'http://news.shlll.net/']], [['url', u'http://member.shlll.net/home/login?redirect=http://course.shlll.net/course/discovery']], [['url', u'http://member.shlll.net/home/signup']], [['url', u'http://course.shlll.net/Course/index']], [['url', u'http://course.shlll.net/Course/index']], [['url', u'http://course.shlll.net/Course/Discovery']], [['url', u'http://www.beian.gov.cn/portal/registerSystemInfo?recordcode=31011002000385']], [['url', u'http://course.shlll.net/Course/Course8052.html']], [['url', u'http://course.shlll.net/Course/Course8052.html']], [['url', u'http://course.shlll.net/Course/Course10026.html']], [['url', u'http://course.shlll.net/Course/Course10026.html']], [['url', u'http://course.shlll.net/Course/Course10025.html']], [['url', u'http://course.shlll.net/Course/Course10025.html']], [['url', u'http://course.shlll.net/Course/Course10024.html']], [['url', u'http://course.shlll.net/Course/Course10024.html']], [['url', u'http://course.shlll.net/Course/Course8022.html']], [['url', u'http://course.shlll.net/Course/Course8022.html']], [['url', u'http://course.shlll.net/Course/Course10013.html']], [['url', u'http://course.shlll.net/Course/Course10013.html']], [['url', u'http://course.shlll.net/Course/Course10015.html']], [['url', u'http://course.shlll.net/Course/Course10015.html']], [['url', u'http://course.shlll.net/Course/Course10014.html']], [['url', u'http://course.shlll.net/Course/Course10014.html']], [['url', u'http://course.shlll.net/Course/Course10012.html']], [['url', u'http://course.shlll.net/Course/Course10012.html']], [['url', u'http://course.shlll.net/Course/Course8170.html']], [['url', u'http://course.shlll.net/Course/Course8170.html']], [['url', u'http://course.shlll.net/Course/coursesearch/p_1/1/A63B73AEB3B95A63'], ['button', u'1']], [['url', u'http://course.shlll.net/Course/coursesearch/p_1/1/A63B73AEB3B95A63'], ['button', u'2']], [['url', u'http://course.shlll.net/Course/coursesearch/p_1/1/A63B73AEB3B95A63'], ['button', u'3']], [['url', u'http://course.shlll.net/Course/coursesearch/p_1/1/A63B73AEB3B95A63'], ['button', u'4']], [['url', u'http://course.shlll.net/Course/coursesearch/p_1/1/A63B73AEB3B95A63'], ['button', u'5']], [['url', u'http://course.shlll.net/Course/coursesearch/p_1/1/A63B73AEB3B95A63'], ['button', u'6']], [['url', u'http://course.shlll.net/Course/coursesearch/p_1/1/A63B73AEB3B95A63'], ['button', u'7']], [['url', u'http://course.shlll.net/Course/coursesearch/p_1/1/A63B73AEB3B95A63'], ['button', u'8']], [['url', u'http://course.shlll.net/Course/coursesearch/p_1/1/A63B73AEB3B95A63'], ['button', u'9']], [['url', u'http://course.shlll.net/Course/coursesearch/p_1/1/A63B73AEB3B95A63'], ['button', u'10']], [['url', u'http://course.shlll.net/Course/coursesearch/p_1/1/A63B73AEB3B95A63'], ['button', u'\\u4e0b\\u4e00\\u9875']]]\n",
      "ignoring...\n",
      "ignoring...\n",
      "ignoring...\n",
      "ignoring...\n",
      "ignoring...\n",
      "ignoring...\n",
      "ignoring...\n",
      "ignoring...\n",
      "ignoring...\n",
      "ignoring...\n",
      "ignoring...\n",
      "ignoring...\n",
      "ignoring...\n",
      "ignoring...\n",
      "ignoring...\n",
      "ignoring...\n",
      "ignoring...\n",
      "ignoring...\n",
      "ignoring...\n",
      "ignoring...\n",
      "ignoring...\n",
      "ignoring...\n",
      "ignoring...\n",
      "ignoring...\n",
      "ignoring...\n",
      "ignoring...\n",
      "ignoring...\n",
      "ignoring...\n",
      "ignoring...\n",
      "ignoring...\n",
      "ignoring...\n",
      "ignoring...\n",
      "新urls\n",
      "[[['url', u'http://course.shlll.net/Course/Course8052.html']], [['url', u'http://course.shlll.net/Course/Course8052.html']], [['url', u'http://course.shlll.net/Course/Course10026.html']], [['url', u'http://course.shlll.net/Course/Course10026.html']], [['url', u'http://course.shlll.net/Course/Course10025.html']], [['url', u'http://course.shlll.net/Course/Course10025.html']], [['url', u'http://course.shlll.net/Course/Course10024.html']], [['url', u'http://course.shlll.net/Course/Course10024.html']], [['url', u'http://course.shlll.net/Course/Course8022.html']], [['url', u'http://course.shlll.net/Course/Course8022.html']], [['url', u'http://course.shlll.net/Course/Course10013.html']], [['url', u'http://course.shlll.net/Course/Course10013.html']], [['url', u'http://course.shlll.net/Course/Course10015.html']], [['url', u'http://course.shlll.net/Course/Course10015.html']], [['url', u'http://course.shlll.net/Course/Course10014.html']], [['url', u'http://course.shlll.net/Course/Course10014.html']], [['url', u'http://course.shlll.net/Course/Course10012.html']], [['url', u'http://course.shlll.net/Course/Course10012.html']], [['url', u'http://course.shlll.net/Course/Course8170.html']], [['url', u'http://course.shlll.net/Course/Course8170.html']], [['url', u'http://course.shlll.net/Course/coursesearch/p_1/1/A63B73AEB3B95A63'], ['button', u'1'], ['button', u'1']], [['url', u'http://course.shlll.net/Course/coursesearch/p_1/1/A63B73AEB3B95A63'], ['button', u'1'], ['button', u'2']], [['url', u'http://course.shlll.net/Course/coursesearch/p_1/1/A63B73AEB3B95A63'], ['button', u'1'], ['button', u'3']], [['url', u'http://course.shlll.net/Course/coursesearch/p_1/1/A63B73AEB3B95A63'], ['button', u'1'], ['button', u'4']], [['url', u'http://course.shlll.net/Course/coursesearch/p_1/1/A63B73AEB3B95A63'], ['button', u'1'], ['button', u'5']], [['url', u'http://course.shlll.net/Course/coursesearch/p_1/1/A63B73AEB3B95A63'], ['button', u'1'], ['button', u'6']], [['url', u'http://course.shlll.net/Course/coursesearch/p_1/1/A63B73AEB3B95A63'], ['button', u'1'], ['button', u'7']], [['url', u'http://course.shlll.net/Course/coursesearch/p_1/1/A63B73AEB3B95A63'], ['button', u'1'], ['button', u'8']], [['url', u'http://course.shlll.net/Course/coursesearch/p_1/1/A63B73AEB3B95A63'], ['button', u'1'], ['button', u'9']], [['url', u'http://course.shlll.net/Course/coursesearch/p_1/1/A63B73AEB3B95A63'], ['button', u'1'], ['button', u'10']], [['url', u'http://course.shlll.net/Course/coursesearch/p_1/1/A63B73AEB3B95A63'], ['button', u'1'], ['button', u'\\u4e0b\\u4e00\\u9875']]]\n",
      "新urls\n",
      "[[['url', u'http://course.shlll.net/course/coursesearch/p_2/1/A63B73AEB3B95A63']], [['url', u'http://course.shlll.net/Course/Course10139.html']], [['url', u'http://course.shlll.net/Course/Course10139.html']], [['url', u'http://course.shlll.net/Course/Course8049.html']], [['url', u'http://course.shlll.net/Course/Course8049.html']], [['url', u'http://course.shlll.net/Course/Course10022.html']], [['url', u'http://course.shlll.net/Course/Course10022.html']], [['url', u'http://course.shlll.net/Course/Course10023.html']], [['url', u'http://course.shlll.net/Course/Course10023.html']], [['url', u'http://course.shlll.net/Course/Course8000.html']], [['url', u'http://course.shlll.net/Course/Course8000.html']], [['url', u'http://course.shlll.net/Course/Course9996.html']], [['url', u'http://course.shlll.net/Course/Course9996.html']], [['url', u'http://course.shlll.net/Course/Course7862.html']], [['url', u'http://course.shlll.net/Course/Course7862.html']], [['url', u'http://course.shlll.net/Course/Course8182.html']], [['url', u'http://course.shlll.net/Course/Course8182.html']], [['url', u'http://course.shlll.net/Course/Course10144.html']], [['url', u'http://course.shlll.net/Course/Course10144.html']], [['url', u'http://course.shlll.net/Course/Course8058.html']], [['url', u'http://course.shlll.net/Course/Course8058.html']], ['url', u'http://course.shlll.net/course/coursesearch/p_2/1/A63B73AEB3B95A63', ['button', u'\\u4e0a\\u4e00\\u9875']], ['url', u'http://course.shlll.net/course/coursesearch/p_2/1/A63B73AEB3B95A63', ['button', u'1']], ['url', u'http://course.shlll.net/course/coursesearch/p_2/1/A63B73AEB3B95A63', ['button', u'2']], ['url', u'http://course.shlll.net/course/coursesearch/p_2/1/A63B73AEB3B95A63', ['button', u'3']], ['url', u'http://course.shlll.net/course/coursesearch/p_2/1/A63B73AEB3B95A63', ['button', u'4']], ['url', u'http://course.shlll.net/course/coursesearch/p_2/1/A63B73AEB3B95A63', ['button', u'5']], ['url', u'http://course.shlll.net/course/coursesearch/p_2/1/A63B73AEB3B95A63', ['button', u'6']], ['url', u'http://course.shlll.net/course/coursesearch/p_2/1/A63B73AEB3B95A63', ['button', u'7']], ['url', u'http://course.shlll.net/course/coursesearch/p_2/1/A63B73AEB3B95A63', ['button', u'8']], ['url', u'http://course.shlll.net/course/coursesearch/p_2/1/A63B73AEB3B95A63', ['button', u'9']], ['url', u'http://course.shlll.net/course/coursesearch/p_2/1/A63B73AEB3B95A63', ['button', u'10']], ['url', u'http://course.shlll.net/course/coursesearch/p_2/1/A63B73AEB3B95A63', ['button', u'\\u4e0b\\u4e00\\u9875']]]\n",
      "新urls\n",
      "[[['url', u'http://course.shlll.net/course/coursesearch/p_3/1/A63B73AEB3B95A63']], [['url', u'http://course.shlll.net/Course/Course10028.html']], [['url', u'http://course.shlll.net/Course/Course10028.html']], [['url', u'http://course.shlll.net/Course/Course8055.html']], [['url', u'http://course.shlll.net/Course/Course8055.html']], [['url', u'http://course.shlll.net/Course/Course10027.html']], [['url', u'http://course.shlll.net/Course/Course10027.html']], [['url', u'http://course.shlll.net/Course/Course8066.html']], [['url', u'http://course.shlll.net/Course/Course8066.html']], [['url', u'http://course.shlll.net/Course/Course8054.html']], [['url', u'http://course.shlll.net/Course/Course8054.html']], [['url', u'http://course.shlll.net/Course/Course8064.html']], [['url', u'http://course.shlll.net/Course/Course8064.html']], [['url', u'http://course.shlll.net/Course/Course8105.html']], [['url', u'http://course.shlll.net/Course/Course8105.html']], [['url', u'http://course.shlll.net/Course/Course10076.html']], [['url', u'http://course.shlll.net/Course/Course10076.html']], [['url', u'http://course.shlll.net/Course/Course10078.html']], [['url', u'http://course.shlll.net/Course/Course10078.html']], [['url', u'http://course.shlll.net/Course/Course10074.html']], [['url', u'http://course.shlll.net/Course/Course10074.html']], ['url', u'http://course.shlll.net/course/coursesearch/p_3/1/A63B73AEB3B95A63', ['button', u'\\u4e0a\\u4e00\\u9875']], ['url', u'http://course.shlll.net/course/coursesearch/p_3/1/A63B73AEB3B95A63', ['button', u'1']], ['url', u'http://course.shlll.net/course/coursesearch/p_3/1/A63B73AEB3B95A63', ['button', u'2']], ['url', u'http://course.shlll.net/course/coursesearch/p_3/1/A63B73AEB3B95A63', ['button', u'3']], ['url', u'http://course.shlll.net/course/coursesearch/p_3/1/A63B73AEB3B95A63', ['button', u'4']], ['url', u'http://course.shlll.net/course/coursesearch/p_3/1/A63B73AEB3B95A63', ['button', u'5']], ['url', u'http://course.shlll.net/course/coursesearch/p_3/1/A63B73AEB3B95A63', ['button', u'6']], ['url', u'http://course.shlll.net/course/coursesearch/p_3/1/A63B73AEB3B95A63', ['button', u'7']], ['url', u'http://course.shlll.net/course/coursesearch/p_3/1/A63B73AEB3B95A63', ['button', u'8']], ['url', u'http://course.shlll.net/course/coursesearch/p_3/1/A63B73AEB3B95A63', ['button', u'9']], ['url', u'http://course.shlll.net/course/coursesearch/p_3/1/A63B73AEB3B95A63', ['button', u'10']], ['url', u'http://course.shlll.net/course/coursesearch/p_3/1/A63B73AEB3B95A63', ['button', u'\\u4e0b\\u4e00\\u9875']]]\n",
      "新urls\n",
      "[[['url', u'http://course.shlll.net/course/coursesearch/p_4/1/A63B73AEB3B95A63']], [['url', u'http://course.shlll.net/Course/Course10081.html']], [['url', u'http://course.shlll.net/Course/Course10081.html']], [['url', u'http://course.shlll.net/Course/Course10083.html']], [['url', u'http://course.shlll.net/Course/Course10083.html']], [['url', u'http://course.shlll.net/Course/Course10085.html']], [['url', u'http://course.shlll.net/Course/Course10085.html']], [['url', u'http://course.shlll.net/Course/Course10075.html']], [['url', u'http://course.shlll.net/Course/Course10075.html']], [['url', u'http://course.shlll.net/Course/Course10079.html']], [['url', u'http://course.shlll.net/Course/Course10079.html']], [['url', u'http://course.shlll.net/Course/Course10080.html']], [['url', u'http://course.shlll.net/Course/Course10080.html']], [['url', u'http://course.shlll.net/Course/Course10077.html']], [['url', u'http://course.shlll.net/Course/Course10077.html']], [['url', u'http://course.shlll.net/Course/Course10082.html']], [['url', u'http://course.shlll.net/Course/Course10082.html']], [['url', u'http://course.shlll.net/Course/Course10084.html']], [['url', u'http://course.shlll.net/Course/Course10084.html']], [['url', u'http://course.shlll.net/Course/Course10087.html']], [['url', u'http://course.shlll.net/Course/Course10087.html']], ['url', u'http://course.shlll.net/course/coursesearch/p_4/1/A63B73AEB3B95A63', ['button', u'\\u4e0a\\u4e00\\u9875']], ['url', u'http://course.shlll.net/course/coursesearch/p_4/1/A63B73AEB3B95A63', ['button', u'1']], ['url', u'http://course.shlll.net/course/coursesearch/p_4/1/A63B73AEB3B95A63', ['button', u'2']], ['url', u'http://course.shlll.net/course/coursesearch/p_4/1/A63B73AEB3B95A63', ['button', u'3']], ['url', u'http://course.shlll.net/course/coursesearch/p_4/1/A63B73AEB3B95A63', ['button', u'4']], ['url', u'http://course.shlll.net/course/coursesearch/p_4/1/A63B73AEB3B95A63', ['button', u'5']], ['url', u'http://course.shlll.net/course/coursesearch/p_4/1/A63B73AEB3B95A63', ['button', u'6']], ['url', u'http://course.shlll.net/course/coursesearch/p_4/1/A63B73AEB3B95A63', ['button', u'7']], ['url', u'http://course.shlll.net/course/coursesearch/p_4/1/A63B73AEB3B95A63', ['button', u'8']], ['url', u'http://course.shlll.net/course/coursesearch/p_4/1/A63B73AEB3B95A63', ['button', u'9']], ['url', u'http://course.shlll.net/course/coursesearch/p_4/1/A63B73AEB3B95A63', ['button', u'10']], ['url', u'http://course.shlll.net/course/coursesearch/p_4/1/A63B73AEB3B95A63', ['button', u'\\u4e0b\\u4e00\\u9875']]]\n",
      "新urls\n",
      "[[['url', u'http://course.shlll.net/course/coursesearch/p_5/1/A63B73AEB3B95A63']], [['url', u'http://course.shlll.net/Course/Course10086.html']], [['url', u'http://course.shlll.net/Course/Course10086.html']], [['url', u'http://course.shlll.net/Course/Course10088.html']], [['url', u'http://course.shlll.net/Course/Course10088.html']], [['url', u'http://course.shlll.net/Course/Course8028.html']], [['url', u'http://course.shlll.net/Course/Course8028.html']], [['url', u'http://course.shlll.net/Course/Course10017.html']], [['url', u'http://course.shlll.net/Course/Course10017.html']], [['url', u'http://course.shlll.net/Course/Course10018.html']], [['url', u'http://course.shlll.net/Course/Course10018.html']], [['url', u'http://course.shlll.net/Course/Course10029.html']], [['url', u'http://course.shlll.net/Course/Course10029.html']], [['url', u'http://course.shlll.net/Course/Course8065.html']], [['url', u'http://course.shlll.net/Course/Course8065.html']], [['url', u'http://course.shlll.net/Course/Course10030.html']], [['url', u'http://course.shlll.net/Course/Course10030.html']], [['url', u'http://course.shlll.net/Course/Course10031.html']], [['url', u'http://course.shlll.net/Course/Course10031.html']], [['url', u'http://course.shlll.net/Course/Course8148.html']], [['url', u'http://course.shlll.net/Course/Course8148.html']], ['url', u'http://course.shlll.net/course/coursesearch/p_5/1/A63B73AEB3B95A63', ['button', u'\\u4e0a\\u4e00\\u9875']], ['url', u'http://course.shlll.net/course/coursesearch/p_5/1/A63B73AEB3B95A63', ['button', u'1']], ['url', u'http://course.shlll.net/course/coursesearch/p_5/1/A63B73AEB3B95A63', ['button', u'2']], ['url', u'http://course.shlll.net/course/coursesearch/p_5/1/A63B73AEB3B95A63', ['button', u'3']], ['url', u'http://course.shlll.net/course/coursesearch/p_5/1/A63B73AEB3B95A63', ['button', u'4']], ['url', u'http://course.shlll.net/course/coursesearch/p_5/1/A63B73AEB3B95A63', ['button', u'5']], ['url', u'http://course.shlll.net/course/coursesearch/p_5/1/A63B73AEB3B95A63', ['button', u'6']], ['url', u'http://course.shlll.net/course/coursesearch/p_5/1/A63B73AEB3B95A63', ['button', u'7']], ['url', u'http://course.shlll.net/course/coursesearch/p_5/1/A63B73AEB3B95A63', ['button', u'8']], ['url', u'http://course.shlll.net/course/coursesearch/p_5/1/A63B73AEB3B95A63', ['button', u'9']], ['url', u'http://course.shlll.net/course/coursesearch/p_5/1/A63B73AEB3B95A63', ['button', u'10']], ['url', u'http://course.shlll.net/course/coursesearch/p_5/1/A63B73AEB3B95A63', ['button', u'\\u4e0b\\u4e00\\u9875']]]\n",
      "新urls\n",
      "[[['url', u'http://course.shlll.net/course/coursesearch/p_6/1/A63B73AEB3B95A63']], [['url', u'http://course.shlll.net/Course/Course8141.html']], [['url', u'http://course.shlll.net/Course/Course8141.html']], [['url', u'http://course.shlll.net/Course/Course10122.html']], [['url', u'http://course.shlll.net/Course/Course10122.html']], [['url', u'http://course.shlll.net/Course/Course10123.html']], [['url', u'http://course.shlll.net/Course/Course10123.html']], [['url', u'http://course.shlll.net/Course/Course8072.html']], [['url', u'http://course.shlll.net/Course/Course8072.html']], [['url', u'http://course.shlll.net/Course/Course10036.html']], [['url', u'http://course.shlll.net/Course/Course10036.html']], [['url', u'http://course.shlll.net/Course/Course10033.html']], [['url', u'http://course.shlll.net/Course/Course10033.html']], [['url', u'http://course.shlll.net/Course/Course10034.html']], [['url', u'http://course.shlll.net/Course/Course10034.html']], [['url', u'http://course.shlll.net/Course/Course10035.html']], [['url', u'http://course.shlll.net/Course/Course10035.html']], [['url', u'http://course.shlll.net/Course/Course10038.html']], [['url', u'http://course.shlll.net/Course/Course10038.html']], [['url', u'http://course.shlll.net/Course/Course10037.html']], [['url', u'http://course.shlll.net/Course/Course10037.html']], ['url', u'http://course.shlll.net/course/coursesearch/p_6/1/A63B73AEB3B95A63', ['button', u'\\u4e0a\\u4e00\\u9875']], ['url', u'http://course.shlll.net/course/coursesearch/p_6/1/A63B73AEB3B95A63', ['button', u'1']], ['url', u'http://course.shlll.net/course/coursesearch/p_6/1/A63B73AEB3B95A63', ['button', u'2']], ['url', u'http://course.shlll.net/course/coursesearch/p_6/1/A63B73AEB3B95A63', ['button', u'3']], ['url', u'http://course.shlll.net/course/coursesearch/p_6/1/A63B73AEB3B95A63', ['button', u'4']], ['url', u'http://course.shlll.net/course/coursesearch/p_6/1/A63B73AEB3B95A63', ['button', u'5']], ['url', u'http://course.shlll.net/course/coursesearch/p_6/1/A63B73AEB3B95A63', ['button', u'6']], ['url', u'http://course.shlll.net/course/coursesearch/p_6/1/A63B73AEB3B95A63', ['button', u'7']], ['url', u'http://course.shlll.net/course/coursesearch/p_6/1/A63B73AEB3B95A63', ['button', u'8']], ['url', u'http://course.shlll.net/course/coursesearch/p_6/1/A63B73AEB3B95A63', ['button', u'9']], ['url', u'http://course.shlll.net/course/coursesearch/p_6/1/A63B73AEB3B95A63', ['button', u'10']], ['url', u'http://course.shlll.net/course/coursesearch/p_6/1/A63B73AEB3B95A63', ['button', u'\\u4e0b\\u4e00\\u9875']]]\n",
      "新urls\n",
      "[[['url', u'http://course.shlll.net/course/coursesearch/p_7/1/A63B73AEB3B95A63']], [['url', u'http://course.shlll.net/Course/Course10097.html']], [['url', u'http://course.shlll.net/Course/Course10097.html']], [['url', u'http://course.shlll.net/Course/Course10090.html']], [['url', u'http://course.shlll.net/Course/Course10090.html']], [['url', u'http://course.shlll.net/Course/Course10092.html']], [['url', u'http://course.shlll.net/Course/Course10092.html']], [['url', u'http://course.shlll.net/Course/Course10094.html']], [['url', u'http://course.shlll.net/Course/Course10094.html']], [['url', u'http://course.shlll.net/Course/Course10091.html']], [['url', u'http://course.shlll.net/Course/Course10091.html']], [['url', u'http://course.shlll.net/Course/Course10100.html']], [['url', u'http://course.shlll.net/Course/Course10100.html']], [['url', u'http://course.shlll.net/Course/Course10103.html']], [['url', u'http://course.shlll.net/Course/Course10103.html']], [['url', u'http://course.shlll.net/Course/Course10102.html']], [['url', u'http://course.shlll.net/Course/Course10102.html']], [['url', u'http://course.shlll.net/Course/Course10095.html']], [['url', u'http://course.shlll.net/Course/Course10095.html']], [['url', u'http://course.shlll.net/Course/Course10093.html']], [['url', u'http://course.shlll.net/Course/Course10093.html']], ['url', u'http://course.shlll.net/course/coursesearch/p_7/1/A63B73AEB3B95A63', ['button', u'\\u4e0a\\u4e00\\u9875']], ['url', u'http://course.shlll.net/course/coursesearch/p_7/1/A63B73AEB3B95A63', ['button', u'2']], ['url', u'http://course.shlll.net/course/coursesearch/p_7/1/A63B73AEB3B95A63', ['button', u'3']], ['url', u'http://course.shlll.net/course/coursesearch/p_7/1/A63B73AEB3B95A63', ['button', u'4']], ['url', u'http://course.shlll.net/course/coursesearch/p_7/1/A63B73AEB3B95A63', ['button', u'5']], ['url', u'http://course.shlll.net/course/coursesearch/p_7/1/A63B73AEB3B95A63', ['button', u'6']], ['url', u'http://course.shlll.net/course/coursesearch/p_7/1/A63B73AEB3B95A63', ['button', u'7']], ['url', u'http://course.shlll.net/course/coursesearch/p_7/1/A63B73AEB3B95A63', ['button', u'8']], ['url', u'http://course.shlll.net/course/coursesearch/p_7/1/A63B73AEB3B95A63', ['button', u'9']], ['url', u'http://course.shlll.net/course/coursesearch/p_7/1/A63B73AEB3B95A63', ['button', u'10']], ['url', u'http://course.shlll.net/course/coursesearch/p_7/1/A63B73AEB3B95A63', ['button', u'11']], ['url', u'http://course.shlll.net/course/coursesearch/p_7/1/A63B73AEB3B95A63', ['button', u'\\u4e0b\\u4e00\\u9875']]]\n",
      "新urls\n",
      "[[['url', u'http://course.shlll.net/course/coursesearch/p_8/1/A63B73AEB3B95A63']], [['url', u'http://course.shlll.net/Course/Course10104.html']], [['url', u'http://course.shlll.net/Course/Course10104.html']], [['url', u'http://course.shlll.net/Course/Course10096.html']], [['url', u'http://course.shlll.net/Course/Course10096.html']], [['url', u'http://course.shlll.net/Course/Course10105.html']], [['url', u'http://course.shlll.net/Course/Course10105.html']], [['url', u'http://course.shlll.net/Course/Course10099.html']], [['url', u'http://course.shlll.net/Course/Course10099.html']], [['url', u'http://course.shlll.net/Course/Course10098.html']], [['url', u'http://course.shlll.net/Course/Course10098.html']], [['url', u'http://course.shlll.net/Course/Course8110.html']], [['url', u'http://course.shlll.net/Course/Course8110.html']], [['url', u'http://course.shlll.net/Course/Course10101.html']], [['url', u'http://course.shlll.net/Course/Course10101.html']], [['url', u'http://course.shlll.net/Course/Course7853.html']], [['url', u'http://course.shlll.net/Course/Course7853.html']], [['url', u'http://course.shlll.net/Course/Course8102.html']], [['url', u'http://course.shlll.net/Course/Course8102.html']], [['url', u'http://course.shlll.net/Course/Course10069.html']], [['url', u'http://course.shlll.net/Course/Course10069.html']], ['url', u'http://course.shlll.net/course/coursesearch/p_8/1/A63B73AEB3B95A63', ['button', u'\\u4e0a\\u4e00\\u9875']], ['url', u'http://course.shlll.net/course/coursesearch/p_8/1/A63B73AEB3B95A63', ['button', u'3']], ['url', u'http://course.shlll.net/course/coursesearch/p_8/1/A63B73AEB3B95A63', ['button', u'4']], ['url', u'http://course.shlll.net/course/coursesearch/p_8/1/A63B73AEB3B95A63', ['button', u'5']], ['url', u'http://course.shlll.net/course/coursesearch/p_8/1/A63B73AEB3B95A63', ['button', u'6']], ['url', u'http://course.shlll.net/course/coursesearch/p_8/1/A63B73AEB3B95A63', ['button', u'7']], ['url', u'http://course.shlll.net/course/coursesearch/p_8/1/A63B73AEB3B95A63', ['button', u'8']], ['url', u'http://course.shlll.net/course/coursesearch/p_8/1/A63B73AEB3B95A63', ['button', u'9']], ['url', u'http://course.shlll.net/course/coursesearch/p_8/1/A63B73AEB3B95A63', ['button', u'10']], ['url', u'http://course.shlll.net/course/coursesearch/p_8/1/A63B73AEB3B95A63', ['button', u'11']], ['url', u'http://course.shlll.net/course/coursesearch/p_8/1/A63B73AEB3B95A63', ['button', u'12']], ['url', u'http://course.shlll.net/course/coursesearch/p_8/1/A63B73AEB3B95A63', ['button', u'\\u4e0b\\u4e00\\u9875']]]\n",
      "新urls\n",
      "[[['url', u'http://course.shlll.net/course/coursesearch/p_9/1/A63B73AEB3B95A63']], [['url', u'http://course.shlll.net/Course/Course10065.html']], [['url', u'http://course.shlll.net/Course/Course10065.html']], [['url', u'http://course.shlll.net/Course/Course10060.html']], [['url', u'http://course.shlll.net/Course/Course10060.html']], [['url', u'http://course.shlll.net/Course/Course10063.html']], [['url', u'http://course.shlll.net/Course/Course10063.html']], [['url', u'http://course.shlll.net/Course/Course10066.html']], [['url', u'http://course.shlll.net/Course/Course10066.html']], [['url', u'http://course.shlll.net/Course/Course10072.html']], [['url', u'http://course.shlll.net/Course/Course10072.html']], [['url', u'http://course.shlll.net/Course/Course10068.html']], [['url', u'http://course.shlll.net/Course/Course10068.html']], [['url', u'http://course.shlll.net/Course/Course10067.html']], [['url', u'http://course.shlll.net/Course/Course10067.html']], [['url', u'http://course.shlll.net/Course/Course10062.html']], [['url', u'http://course.shlll.net/Course/Course10062.html']], [['url', u'http://course.shlll.net/Course/Course10059.html']], [['url', u'http://course.shlll.net/Course/Course10059.html']], [['url', u'http://course.shlll.net/Course/Course10061.html']], [['url', u'http://course.shlll.net/Course/Course10061.html']], ['url', u'http://course.shlll.net/course/coursesearch/p_9/1/A63B73AEB3B95A63', ['button', u'\\u4e0a\\u4e00\\u9875']], ['url', u'http://course.shlll.net/course/coursesearch/p_9/1/A63B73AEB3B95A63', ['button', u'4']], ['url', u'http://course.shlll.net/course/coursesearch/p_9/1/A63B73AEB3B95A63', ['button', u'5']], ['url', u'http://course.shlll.net/course/coursesearch/p_9/1/A63B73AEB3B95A63', ['button', u'6']], ['url', u'http://course.shlll.net/course/coursesearch/p_9/1/A63B73AEB3B95A63', ['button', u'7']], ['url', u'http://course.shlll.net/course/coursesearch/p_9/1/A63B73AEB3B95A63', ['button', u'8']], ['url', u'http://course.shlll.net/course/coursesearch/p_9/1/A63B73AEB3B95A63', ['button', u'9']], ['url', u'http://course.shlll.net/course/coursesearch/p_9/1/A63B73AEB3B95A63', ['button', u'10']], ['url', u'http://course.shlll.net/course/coursesearch/p_9/1/A63B73AEB3B95A63', ['button', u'11']], ['url', u'http://course.shlll.net/course/coursesearch/p_9/1/A63B73AEB3B95A63', ['button', u'12']], ['url', u'http://course.shlll.net/course/coursesearch/p_9/1/A63B73AEB3B95A63', ['button', u'13']], ['url', u'http://course.shlll.net/course/coursesearch/p_9/1/A63B73AEB3B95A63', ['button', u'\\u4e0b\\u4e00\\u9875']]]\n",
      "新urls\n",
      "[[['url', u'http://course.shlll.net/course/coursesearch/p_10/1/A63B73AEB3B95A63']], [['url', u'http://course.shlll.net/Course/Course10071.html']], [['url', u'http://course.shlll.net/Course/Course10071.html']], [['url', u'http://course.shlll.net/Course/Course10070.html']], [['url', u'http://course.shlll.net/Course/Course10070.html']], [['url', u'http://course.shlll.net/Course/Course10064.html']], [['url', u'http://course.shlll.net/Course/Course10064.html']], [['url', u'http://course.shlll.net/Course/Course8051.html']], [['url', u'http://course.shlll.net/Course/Course8051.html']], [['url', u'http://course.shlll.net/Course/Course9975.html']], [['url', u'http://course.shlll.net/Course/Course9975.html']], [['url', u'http://course.shlll.net/Course/Course9974.html']], [['url', u'http://course.shlll.net/Course/Course9974.html']], [['url', u'http://course.shlll.net/Course/Course7912.html']], [['url', u'http://course.shlll.net/Course/Course7912.html']], [['url', u'http://course.shlll.net/Course/Course9976.html']], [['url', u'http://course.shlll.net/Course/Course9976.html']], [['url', u'http://course.shlll.net/Course/Course8089.html']], [['url', u'http://course.shlll.net/Course/Course8089.html']], [['url', u'http://course.shlll.net/Course/Course8118.html']], [['url', u'http://course.shlll.net/Course/Course8118.html']], ['url', u'http://course.shlll.net/course/coursesearch/p_10/1/A63B73AEB3B95A63', ['button', u'\\u4e0a\\u4e00\\u9875']], ['url', u'http://course.shlll.net/course/coursesearch/p_10/1/A63B73AEB3B95A63', ['button', u'5']], ['url', u'http://course.shlll.net/course/coursesearch/p_10/1/A63B73AEB3B95A63', ['button', u'6']], ['url', u'http://course.shlll.net/course/coursesearch/p_10/1/A63B73AEB3B95A63', ['button', u'7']], ['url', u'http://course.shlll.net/course/coursesearch/p_10/1/A63B73AEB3B95A63', ['button', u'8']], ['url', u'http://course.shlll.net/course/coursesearch/p_10/1/A63B73AEB3B95A63', ['button', u'9']], ['url', u'http://course.shlll.net/course/coursesearch/p_10/1/A63B73AEB3B95A63', ['button', u'10']], ['url', u'http://course.shlll.net/course/coursesearch/p_10/1/A63B73AEB3B95A63', ['button', u'11']], ['url', u'http://course.shlll.net/course/coursesearch/p_10/1/A63B73AEB3B95A63', ['button', u'12']], ['url', u'http://course.shlll.net/course/coursesearch/p_10/1/A63B73AEB3B95A63', ['button', u'13']], ['url', u'http://course.shlll.net/course/coursesearch/p_10/1/A63B73AEB3B95A63', ['button', u'14']], ['url', u'http://course.shlll.net/course/coursesearch/p_10/1/A63B73AEB3B95A63', ['button', u'\\u4e0b\\u4e00\\u9875']]]\n",
      "新urls\n",
      "[[['url', u'http://course.shlll.net/course/coursesearch/p_2/1/A63B73AEB3B95A63']], [['url', u'http://course.shlll.net/Course/Course10139.html']], [['url', u'http://course.shlll.net/Course/Course10139.html']], [['url', u'http://course.shlll.net/Course/Course8049.html']], [['url', u'http://course.shlll.net/Course/Course8049.html']], [['url', u'http://course.shlll.net/Course/Course10022.html']], [['url', u'http://course.shlll.net/Course/Course10022.html']], [['url', u'http://course.shlll.net/Course/Course10023.html']], [['url', u'http://course.shlll.net/Course/Course10023.html']], [['url', u'http://course.shlll.net/Course/Course8000.html']], [['url', u'http://course.shlll.net/Course/Course8000.html']], [['url', u'http://course.shlll.net/Course/Course9996.html']], [['url', u'http://course.shlll.net/Course/Course9996.html']], [['url', u'http://course.shlll.net/Course/Course7862.html']], [['url', u'http://course.shlll.net/Course/Course7862.html']], [['url', u'http://course.shlll.net/Course/Course8182.html']], [['url', u'http://course.shlll.net/Course/Course8182.html']], [['url', u'http://course.shlll.net/Course/Course10144.html']], [['url', u'http://course.shlll.net/Course/Course10144.html']], [['url', u'http://course.shlll.net/Course/Course8058.html']], [['url', u'http://course.shlll.net/Course/Course8058.html']], ['url', u'http://course.shlll.net/course/coursesearch/p_2/1/A63B73AEB3B95A63', ['button', u'\\u4e0a\\u4e00\\u9875']], ['url', u'http://course.shlll.net/course/coursesearch/p_2/1/A63B73AEB3B95A63', ['button', u'1']], ['url', u'http://course.shlll.net/course/coursesearch/p_2/1/A63B73AEB3B95A63', ['button', u'2']], ['url', u'http://course.shlll.net/course/coursesearch/p_2/1/A63B73AEB3B95A63', ['button', u'3']], ['url', u'http://course.shlll.net/course/coursesearch/p_2/1/A63B73AEB3B95A63', ['button', u'4']], ['url', u'http://course.shlll.net/course/coursesearch/p_2/1/A63B73AEB3B95A63', ['button', u'5']], ['url', u'http://course.shlll.net/course/coursesearch/p_2/1/A63B73AEB3B95A63', ['button', u'6']], ['url', u'http://course.shlll.net/course/coursesearch/p_2/1/A63B73AEB3B95A63', ['button', u'7']], ['url', u'http://course.shlll.net/course/coursesearch/p_2/1/A63B73AEB3B95A63', ['button', u'8']], ['url', u'http://course.shlll.net/course/coursesearch/p_2/1/A63B73AEB3B95A63', ['button', u'9']], ['url', u'http://course.shlll.net/course/coursesearch/p_2/1/A63B73AEB3B95A63', ['button', u'10']], ['url', u'http://course.shlll.net/course/coursesearch/p_2/1/A63B73AEB3B95A63', ['button', u'\\u4e0b\\u4e00\\u9875']]]\n"
     ]
    }
   ],
   "source": [
    "print urls\n",
    "for url in urls:\n",
    "    if len(url)==1:\n",
    "        print 'ignoring...'\n",
    "        continue\n",
    "    new_urls=turnToElement(driver,url)\n",
    "    print '新urls'\n",
    "    print new_urls\n",
    "    #urls.append(new_urls)"
   ]
  },
  {
   "cell_type": "code",
   "execution_count": 151,
   "metadata": {
    "collapsed": false
   },
   "outputs": [
    {
     "data": {
      "text/plain": [
       "[[['url', u'http://www.shlll.net/']],\n",
       " [['url', u'http://course.shlll.net/']],\n",
       " [['url', u'http://act.shlll.net/']],\n",
       " [['url', u'http://read.shlll.net/']],\n",
       " [['url', u'http://group.shlll.net/']],\n",
       " [['url', u'http://news.shlll.net/']],\n",
       " [['url',\n",
       "   u'http://member.shlll.net/home/login?redirect=http://course.shlll.net/course/discovery']],\n",
       " [['url', u'http://member.shlll.net/home/signup']],\n",
       " [['url', u'http://course.shlll.net/Course/index']],\n",
       " [['url', u'http://course.shlll.net/Course/index']],\n",
       " [['url', u'http://course.shlll.net/Course/Discovery']],\n",
       " [['url',\n",
       "   u'http://www.beian.gov.cn/portal/registerSystemInfo?recordcode=31011002000385']],\n",
       " [['url', u'http://course.shlll.net/Course/Course8052.html']],\n",
       " [['url', u'http://course.shlll.net/Course/Course8052.html']],\n",
       " [['url', u'http://course.shlll.net/Course/Course10026.html']],\n",
       " [['url', u'http://course.shlll.net/Course/Course10026.html']],\n",
       " [['url', u'http://course.shlll.net/Course/Course10025.html']],\n",
       " [['url', u'http://course.shlll.net/Course/Course10025.html']],\n",
       " [['url', u'http://course.shlll.net/Course/Course10024.html']],\n",
       " [['url', u'http://course.shlll.net/Course/Course10024.html']],\n",
       " [['url', u'http://course.shlll.net/Course/Course8022.html']],\n",
       " [['url', u'http://course.shlll.net/Course/Course8022.html']],\n",
       " [['url', u'http://course.shlll.net/Course/Course10013.html']],\n",
       " [['url', u'http://course.shlll.net/Course/Course10013.html']],\n",
       " [['url', u'http://course.shlll.net/Course/Course10015.html']],\n",
       " [['url', u'http://course.shlll.net/Course/Course10015.html']],\n",
       " [['url', u'http://course.shlll.net/Course/Course10014.html']],\n",
       " [['url', u'http://course.shlll.net/Course/Course10014.html']],\n",
       " [['url', u'http://course.shlll.net/Course/Course10012.html']],\n",
       " [['url', u'http://course.shlll.net/Course/Course10012.html']],\n",
       " [['url', u'http://course.shlll.net/Course/Course8170.html']],\n",
       " [['url', u'http://course.shlll.net/Course/Course8170.html']],\n",
       " [['url',\n",
       "   u'http://course.shlll.net/Course/coursesearch/p_1/1/A63B73AEB3B95A63'],\n",
       "  ['button', u'1']],\n",
       " [['url',\n",
       "   u'http://course.shlll.net/Course/coursesearch/p_1/1/A63B73AEB3B95A63'],\n",
       "  ['button', u'2']],\n",
       " [['url',\n",
       "   u'http://course.shlll.net/Course/coursesearch/p_1/1/A63B73AEB3B95A63'],\n",
       "  ['button', u'3']],\n",
       " [['url',\n",
       "   u'http://course.shlll.net/Course/coursesearch/p_1/1/A63B73AEB3B95A63'],\n",
       "  ['button', u'4']],\n",
       " [['url',\n",
       "   u'http://course.shlll.net/Course/coursesearch/p_1/1/A63B73AEB3B95A63'],\n",
       "  ['button', u'5']],\n",
       " [['url',\n",
       "   u'http://course.shlll.net/Course/coursesearch/p_1/1/A63B73AEB3B95A63'],\n",
       "  ['button', u'6']],\n",
       " [['url',\n",
       "   u'http://course.shlll.net/Course/coursesearch/p_1/1/A63B73AEB3B95A63'],\n",
       "  ['button', u'7']],\n",
       " [['url',\n",
       "   u'http://course.shlll.net/Course/coursesearch/p_1/1/A63B73AEB3B95A63'],\n",
       "  ['button', u'8']],\n",
       " [['url',\n",
       "   u'http://course.shlll.net/Course/coursesearch/p_1/1/A63B73AEB3B95A63'],\n",
       "  ['button', u'9']],\n",
       " [['url',\n",
       "   u'http://course.shlll.net/Course/coursesearch/p_1/1/A63B73AEB3B95A63'],\n",
       "  ['button', u'10']],\n",
       " [['url',\n",
       "   u'http://course.shlll.net/Course/coursesearch/p_1/1/A63B73AEB3B95A63'],\n",
       "  ['button', u'\\u4e0b\\u4e00\\u9875']],\n",
       " [[[['url', u'http://course.shlll.net/Course/Course8052.html']],\n",
       "   [['url', u'http://course.shlll.net/Course/Course8052.html']],\n",
       "   [['url', u'http://course.shlll.net/Course/Course10026.html']],\n",
       "   [['url', u'http://course.shlll.net/Course/Course10026.html']],\n",
       "   [['url', u'http://course.shlll.net/Course/Course10025.html']],\n",
       "   [['url', u'http://course.shlll.net/Course/Course10025.html']],\n",
       "   [['url', u'http://course.shlll.net/Course/Course10024.html']],\n",
       "   [['url', u'http://course.shlll.net/Course/Course10024.html']],\n",
       "   [['url', u'http://course.shlll.net/Course/Course8022.html']],\n",
       "   [['url', u'http://course.shlll.net/Course/Course8022.html']],\n",
       "   [['url', u'http://course.shlll.net/Course/Course10013.html']],\n",
       "   [['url', u'http://course.shlll.net/Course/Course10013.html']],\n",
       "   [['url', u'http://course.shlll.net/Course/Course10015.html']],\n",
       "   [['url', u'http://course.shlll.net/Course/Course10015.html']],\n",
       "   [['url', u'http://course.shlll.net/Course/Course10014.html']],\n",
       "   [['url', u'http://course.shlll.net/Course/Course10014.html']],\n",
       "   [['url', u'http://course.shlll.net/Course/Course10012.html']],\n",
       "   [['url', u'http://course.shlll.net/Course/Course10012.html']],\n",
       "   [['url', u'http://course.shlll.net/Course/Course8170.html']],\n",
       "   [['url', u'http://course.shlll.net/Course/Course8170.html']],\n",
       "   [['url',\n",
       "     u'http://course.shlll.net/Course/coursesearch/p_1/1/A63B73AEB3B95A63'],\n",
       "    ['button', u'1'],\n",
       "    ['button', u'1']],\n",
       "   [['url',\n",
       "     u'http://course.shlll.net/Course/coursesearch/p_1/1/A63B73AEB3B95A63'],\n",
       "    ['button', u'1'],\n",
       "    ['button', u'2']],\n",
       "   [['url',\n",
       "     u'http://course.shlll.net/Course/coursesearch/p_1/1/A63B73AEB3B95A63'],\n",
       "    ['button', u'1'],\n",
       "    ['button', u'3']],\n",
       "   [['url',\n",
       "     u'http://course.shlll.net/Course/coursesearch/p_1/1/A63B73AEB3B95A63'],\n",
       "    ['button', u'1'],\n",
       "    ['button', u'4']],\n",
       "   [['url',\n",
       "     u'http://course.shlll.net/Course/coursesearch/p_1/1/A63B73AEB3B95A63'],\n",
       "    ['button', u'1'],\n",
       "    ['button', u'5']],\n",
       "   [['url',\n",
       "     u'http://course.shlll.net/Course/coursesearch/p_1/1/A63B73AEB3B95A63'],\n",
       "    ['button', u'1'],\n",
       "    ['button', u'6']],\n",
       "   [['url',\n",
       "     u'http://course.shlll.net/Course/coursesearch/p_1/1/A63B73AEB3B95A63'],\n",
       "    ['button', u'1'],\n",
       "    ['button', u'7']],\n",
       "   [['url',\n",
       "     u'http://course.shlll.net/Course/coursesearch/p_1/1/A63B73AEB3B95A63'],\n",
       "    ['button', u'1'],\n",
       "    ['button', u'8']],\n",
       "   [['url',\n",
       "     u'http://course.shlll.net/Course/coursesearch/p_1/1/A63B73AEB3B95A63'],\n",
       "    ['button', u'1'],\n",
       "    ['button', u'9']],\n",
       "   [['url',\n",
       "     u'http://course.shlll.net/Course/coursesearch/p_1/1/A63B73AEB3B95A63'],\n",
       "    ['button', u'1'],\n",
       "    ['button', u'10']],\n",
       "   [['url',\n",
       "     u'http://course.shlll.net/Course/coursesearch/p_1/1/A63B73AEB3B95A63'],\n",
       "    ['button', u'1'],\n",
       "    ['button', u'\\u4e0b\\u4e00\\u9875']]]],\n",
       " [[['url',\n",
       "    u'http://course.shlll.net/course/coursesearch/p_2/1/A63B73AEB3B95A63']]],\n",
       " [[['url',\n",
       "    u'http://course.shlll.net/course/coursesearch/p_3/1/A63B73AEB3B95A63']]],\n",
       " [[['url',\n",
       "    u'http://course.shlll.net/course/coursesearch/p_4/1/A63B73AEB3B95A63']]],\n",
       " [[['url',\n",
       "    u'http://course.shlll.net/course/coursesearch/p_5/1/A63B73AEB3B95A63']]],\n",
       " [[['url',\n",
       "    u'http://course.shlll.net/course/coursesearch/p_6/1/A63B73AEB3B95A63']]],\n",
       " [[['url',\n",
       "    u'http://course.shlll.net/course/coursesearch/p_7/1/A63B73AEB3B95A63']]],\n",
       " [[['url',\n",
       "    u'http://course.shlll.net/course/coursesearch/p_8/1/A63B73AEB3B95A63']]],\n",
       " [[['url',\n",
       "    u'http://course.shlll.net/course/coursesearch/p_9/1/A63B73AEB3B95A63']]],\n",
       " [[['url',\n",
       "    u'http://course.shlll.net/course/coursesearch/p_10/1/A63B73AEB3B95A63']]],\n",
       " [[['url',\n",
       "    u'http://course.shlll.net/course/coursesearch/p_2/1/A63B73AEB3B95A63']]]]"
      ]
     },
     "execution_count": 151,
     "metadata": {},
     "output_type": "execute_result"
    }
   ],
   "source": [
    "urls\n"
   ]
  },
  {
   "cell_type": "code",
   "execution_count": 104,
   "metadata": {
    "collapsed": false
   },
   "outputs": [
    {
     "data": {
      "text/plain": [
       "[['url',\n",
       "  u'http://course.shlll.net/Course/coursesearch/p_1/1/A63B73AEB3B95A63'],\n",
       " 'button',\n",
       " <selenium.webdriver.remote.webelement.WebElement (session=\"04b5f4fdbb2aaf880a6b9ece2bb1cda3\", element=\"0.8924692562487837-31\")>]"
      ]
     },
     "execution_count": 104,
     "metadata": {},
     "output_type": "execute_result"
    }
   ],
   "source": [
    "urls[-1]"
   ]
  },
  {
   "cell_type": "code",
   "execution_count": 92,
   "metadata": {
    "collapsed": false,
    "scrolled": false
   },
   "outputs": [],
   "source": [
    "driver.switch_to.parent_frame()"
   ]
  },
  {
   "cell_type": "code",
   "execution_count": 74,
   "metadata": {
    "collapsed": false,
    "scrolled": true
   },
   "outputs": [
    {
     "ename": "TypeError",
     "evalue": "can only concatenate list (not \"unicode\") to list",
     "output_type": "error",
     "traceback": [
      "\u001b[0;31m---------------------------------------------------------------------------\u001b[0m",
      "\u001b[0;31mTypeError\u001b[0m                                 Traceback (most recent call last)",
      "\u001b[0;32m<ipython-input-74-56d8300c6bb4>\u001b[0m in \u001b[0;36m<module>\u001b[0;34m()\u001b[0m\n\u001b[0;32m----> 1\u001b[0;31m \u001b[0mpath\u001b[0m\u001b[1;33m+\u001b[0m\u001b[0mnew_urls\u001b[0m\u001b[1;33m[\u001b[0m\u001b[1;36m0\u001b[0m\u001b[1;33m]\u001b[0m\u001b[1;33m[\u001b[0m\u001b[1;36m1\u001b[0m\u001b[1;33m]\u001b[0m\u001b[1;33m\u001b[0m\u001b[0m\n\u001b[0m",
      "\u001b[0;31mTypeError\u001b[0m: can only concatenate list (not \"unicode\") to list"
     ]
    }
   ],
   "source": [
    "path+new_urls[0][1]"
   ]
  },
  {
   "cell_type": "code",
   "execution_count": 7,
   "metadata": {
    "collapsed": true
   },
   "outputs": [],
   "source": [
    "def isUrl(s):\n",
    "    if s[:4]=='http':\n",
    "        return True\n",
    "    elif s[0]=='/':\n",
    "        return True\n",
    "    else:\n",
    "        return False\n"
   ]
  },
  {
   "cell_type": "code",
   "execution_count": 8,
   "metadata": {
    "collapsed": true
   },
   "outputs": [],
   "source": [
    "def findUrlOfA(driver):\n",
    "    a_s=driver.find_elements_by_tag_name('a')\n",
    "    t_as=[]\n",
    "    for a in a_s:\n",
    "        a_src=a.get_attribute('href')\n",
    "        if isUrl(a_src):\n",
    "            t_as.append([1,a_src])\n",
    "        else:\n",
    "            t_as.append([2,a.text])\n",
    "    return t_as"
   ]
  },
  {
   "cell_type": "code",
   "execution_count": 9,
   "metadata": {
    "collapsed": false
   },
   "outputs": [],
   "source": [
    "def urlPathComplement(urls,path):\n",
    "    urls_compl=[]\n",
    "    for url in urls:\n",
    "        if url[0]==1:\n",
    "            urls_compl.append([['url',url[1]]])\n",
    "        elif url[0]==2:\n",
    "            urls_compl.append(path+[['button',url[1]]])\n",
    "    return urls_compl"
   ]
  },
  {
   "cell_type": "code",
   "execution_count": 128,
   "metadata": {
    "collapsed": false
   },
   "outputs": [
    {
     "data": {
      "text/plain": [
       "[['url',\n",
       "  u'http://course.shlll.net/Course/coursesearch/p_1/1/A63B73AEB3B95A63'],\n",
       " ['button', u'10']]"
      ]
     },
     "execution_count": 128,
     "metadata": {},
     "output_type": "execute_result"
    }
   ],
   "source": [
    "path+[['button',urls[-2][1]]]"
   ]
  },
  {
   "cell_type": "code",
   "execution_count": 33,
   "metadata": {
    "collapsed": true
   },
   "outputs": [],
   "source": [
    "def turnToElement(driver,url):\n",
    "    driver.get(url[0][1])\n",
    "    current_url=driver.current_url\n",
    "    new_urls=[]\n",
    "    if len(url)>1:\n",
    "        for action in url[1:]:\n",
    "            if action[0]=='iframe':\n",
    "                driver.switch_to_frame(action[1])\n",
    "            elif action[0]=='button':\n",
    "                Tools.SeleniumSupport.WaitUntilClickable(driver,link_text=action[1])\n",
    "                driver.find_element_by_link_text(action[1]).click()\n",
    "                time.sleep(1)\n",
    "                if driver.current_url!=current_url:\n",
    "                    new_urls.append([['url',driver.current_url]])\n",
    "                    path=[['url',driver.current_url]]\n",
    "                else:\n",
    "                    path=url\n",
    "                urls_in_new_page=findUrlOfA(driver)\n",
    "                urls_in_new_page_compl=urlPathComplement(urls_in_new_page,path)\n",
    "                iframes_in_new_page=findIframes(driver)\n",
    "                new_urls+=urls_in_new_page_compl+iframes_in_new_page\n",
    "    return new_urls"
   ]
  },
  {
   "cell_type": "code",
   "execution_count": 20,
   "metadata": {
    "collapsed": false
   },
   "outputs": [
    {
     "data": {
      "text/plain": [
       "[[['url', u'http://course.shlll.net/Course/Course10139.html']],\n",
       " [['url', u'http://course.shlll.net/Course/Course10139.html']],\n",
       " [['url', u'http://course.shlll.net/Course/Course8049.html']],\n",
       " [['url', u'http://course.shlll.net/Course/Course8049.html']],\n",
       " [['url', u'http://course.shlll.net/Course/Course10022.html']],\n",
       " [['url', u'http://course.shlll.net/Course/Course10022.html']],\n",
       " [['url', u'http://course.shlll.net/Course/Course10023.html']],\n",
       " [['url', u'http://course.shlll.net/Course/Course10023.html']],\n",
       " [['url', u'http://course.shlll.net/Course/Course8000.html']],\n",
       " [['url', u'http://course.shlll.net/Course/Course8000.html']],\n",
       " [['url', u'http://course.shlll.net/Course/Course9996.html']],\n",
       " [['url', u'http://course.shlll.net/Course/Course9996.html']],\n",
       " [['url', u'http://course.shlll.net/Course/Course7862.html']],\n",
       " [['url', u'http://course.shlll.net/Course/Course7862.html']],\n",
       " [['url', u'http://course.shlll.net/Course/Course8182.html']],\n",
       " [['url', u'http://course.shlll.net/Course/Course8182.html']],\n",
       " [['url', u'http://course.shlll.net/Course/Course10144.html']],\n",
       " [['url', u'http://course.shlll.net/Course/Course10144.html']],\n",
       " [['url', u'http://course.shlll.net/Course/Course8058.html']],\n",
       " [['url', u'http://course.shlll.net/Course/Course8058.html']],\n",
       " [['url',\n",
       "   u'http://course.shlll.net/Course/coursesearch/p_1/1/A63B73AEB3B95A63'],\n",
       "  ['button', u'\\u4e0b\\u4e00\\u9875'],\n",
       "  ['button', u'\\u4e0a\\u4e00\\u9875']],\n",
       " [['url',\n",
       "   u'http://course.shlll.net/Course/coursesearch/p_1/1/A63B73AEB3B95A63'],\n",
       "  ['button', u'\\u4e0b\\u4e00\\u9875'],\n",
       "  ['button', u'1']],\n",
       " [['url',\n",
       "   u'http://course.shlll.net/Course/coursesearch/p_1/1/A63B73AEB3B95A63'],\n",
       "  ['button', u'\\u4e0b\\u4e00\\u9875'],\n",
       "  ['button', u'2']],\n",
       " [['url',\n",
       "   u'http://course.shlll.net/Course/coursesearch/p_1/1/A63B73AEB3B95A63'],\n",
       "  ['button', u'\\u4e0b\\u4e00\\u9875'],\n",
       "  ['button', u'3']],\n",
       " [['url',\n",
       "   u'http://course.shlll.net/Course/coursesearch/p_1/1/A63B73AEB3B95A63'],\n",
       "  ['button', u'\\u4e0b\\u4e00\\u9875'],\n",
       "  ['button', u'4']],\n",
       " [['url',\n",
       "   u'http://course.shlll.net/Course/coursesearch/p_1/1/A63B73AEB3B95A63'],\n",
       "  ['button', u'\\u4e0b\\u4e00\\u9875'],\n",
       "  ['button', u'5']],\n",
       " [['url',\n",
       "   u'http://course.shlll.net/Course/coursesearch/p_1/1/A63B73AEB3B95A63'],\n",
       "  ['button', u'\\u4e0b\\u4e00\\u9875'],\n",
       "  ['button', u'6']],\n",
       " [['url',\n",
       "   u'http://course.shlll.net/Course/coursesearch/p_1/1/A63B73AEB3B95A63'],\n",
       "  ['button', u'\\u4e0b\\u4e00\\u9875'],\n",
       "  ['button', u'7']],\n",
       " [['url',\n",
       "   u'http://course.shlll.net/Course/coursesearch/p_1/1/A63B73AEB3B95A63'],\n",
       "  ['button', u'\\u4e0b\\u4e00\\u9875'],\n",
       "  ['button', u'8']],\n",
       " [['url',\n",
       "   u'http://course.shlll.net/Course/coursesearch/p_1/1/A63B73AEB3B95A63'],\n",
       "  ['button', u'\\u4e0b\\u4e00\\u9875'],\n",
       "  ['button', u'9']],\n",
       " [['url',\n",
       "   u'http://course.shlll.net/Course/coursesearch/p_1/1/A63B73AEB3B95A63'],\n",
       "  ['button', u'\\u4e0b\\u4e00\\u9875'],\n",
       "  ['button', u'10']],\n",
       " [['url',\n",
       "   u'http://course.shlll.net/Course/coursesearch/p_1/1/A63B73AEB3B95A63'],\n",
       "  ['button', u'\\u4e0b\\u4e00\\u9875'],\n",
       "  ['button', u'\\u4e0b\\u4e00\\u9875']]]"
      ]
     },
     "execution_count": 20,
     "metadata": {},
     "output_type": "execute_result"
    }
   ],
   "source": [
    "#urls_in_new_page=findUrlOfA(driver)\n",
    "#urls_in_new_page_compl=urlPathComplement(urls_in_new_page,url)\n",
    "#urls_in_new_page_compl\n",
    "iframes_in_new_page=findIframes(driver)\n",
    "urls_in_new_page_compl+iframes_in_new_page"
   ]
  },
  {
   "cell_type": "code",
   "execution_count": 11,
   "metadata": {
    "collapsed": false
   },
   "outputs": [],
   "source": [
    "def findIframes(driver):\n",
    "    ifrs=driver.find_elements_by_tag_name('iframe')\n",
    "    t_iframes=[]\n",
    "    for ifr in ifrs:\n",
    "        ifr_id=ifr.get_attribute('id')\n",
    "        if ifr_id==None:\n",
    "            continue\n",
    "\n",
    "        ifr_src=ifr.get_attribute('src')\n",
    "        if ifr_src==None or not isUrl(ifr_src):\n",
    "            t_iframes.append([['url',driver.current_url],['iframe',ifr_id]])\n",
    "            continue\n",
    "        else:\n",
    "            t_iframes.append([['url',driver.current_url]])\n",
    "    return t_iframes"
   ]
  },
  {
   "cell_type": "code",
   "execution_count": 96,
   "metadata": {
    "collapsed": false
   },
   "outputs": [
    {
     "name": "stdout",
     "output_type": "stream",
     "text": [
      "[1, 2, 3, 4]\n"
     ]
    }
   ],
   "source": []
  }
 ],
 "metadata": {
  "kernelspec": {
   "display_name": "Python 2",
   "language": "python",
   "name": "python2"
  },
  "language_info": {
   "codemirror_mode": {
    "name": "ipython",
    "version": 2
   },
   "file_extension": ".py",
   "mimetype": "text/x-python",
   "name": "python",
   "nbconvert_exporter": "python",
   "pygments_lexer": "ipython2",
   "version": "2.7.13"
  }
 },
 "nbformat": 4,
 "nbformat_minor": 2
}
